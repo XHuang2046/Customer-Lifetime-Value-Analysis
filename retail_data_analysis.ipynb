{
  "nbformat": 4,
  "nbformat_minor": 0,
  "metadata": {
    "colab": {
      "name": "retail data analysis.ipynb",
      "provenance": [],
      "collapsed_sections": [],
      "mount_file_id": "189Tvi7guCyI5DojXqAnjuxWsOpDD80sc",
      "authorship_tag": "ABX9TyMg9hgzXQvWhGKZmzOEqiKQ",
      "include_colab_link": true
    },
    "kernelspec": {
      "name": "python3",
      "display_name": "Python 3"
    },
    "language_info": {
      "name": "python"
    }
  },
  "cells": [
    {
      "cell_type": "markdown",
      "metadata": {
        "id": "view-in-github",
        "colab_type": "text"
      },
      "source": [
        "<a href=\"https://colab.research.google.com/github/XHuang2046/Customer-Lifetime-Value-Analysis/blob/main/retail_data_analysis.ipynb\" target=\"_parent\"><img src=\"https://colab.research.google.com/assets/colab-badge.svg\" alt=\"Open In Colab\"/></a>"
      ]
    },
    {
      "cell_type": "code",
      "metadata": {
        "id": "XeTQew8WDgCJ"
      },
      "source": [
        "import pandas as pd\n",
        "import numpy as np\n",
        "import matplotlib.pyplot as plt\n",
        "import warnings\n",
        "import datetime as dt\n",
        "warnings.filterwarnings('ignore')"
      ],
      "execution_count": 1,
      "outputs": []
    },
    {
      "cell_type": "code",
      "metadata": {
        "id": "Aaq0XEX15tcG"
      },
      "source": [
        "pip install lifetimes"
      ],
      "execution_count": null,
      "outputs": []
    },
    {
      "cell_type": "code",
      "metadata": {
        "id": "JZgB-LlN6E-R"
      },
      "source": [
        "from lifetimes.plotting import *\n",
        "from lifetimes.utils import *"
      ],
      "execution_count": 3,
      "outputs": []
    },
    {
      "cell_type": "code",
      "metadata": {
        "colab": {
          "base_uri": "https://localhost:8080/",
          "height": 203
        },
        "id": "Tw9rCtzaDyUl",
        "outputId": "131ad3bb-7de1-4269-a59e-81c442bea569"
      },
      "source": [
        "# Loading the data \n",
        "df = pd.read_excel('/content/drive/MyDrive/Colab Notebooks/retail.xlsx')\n",
        "df.head()"
      ],
      "execution_count": 4,
      "outputs": [
        {
          "output_type": "execute_result",
          "data": {
            "text/html": [
              "<div>\n",
              "<style scoped>\n",
              "    .dataframe tbody tr th:only-of-type {\n",
              "        vertical-align: middle;\n",
              "    }\n",
              "\n",
              "    .dataframe tbody tr th {\n",
              "        vertical-align: top;\n",
              "    }\n",
              "\n",
              "    .dataframe thead th {\n",
              "        text-align: right;\n",
              "    }\n",
              "</style>\n",
              "<table border=\"1\" class=\"dataframe\">\n",
              "  <thead>\n",
              "    <tr style=\"text-align: right;\">\n",
              "      <th></th>\n",
              "      <th>InvoiceNo</th>\n",
              "      <th>StockCode</th>\n",
              "      <th>Description</th>\n",
              "      <th>Quantity</th>\n",
              "      <th>InvoiceDate</th>\n",
              "      <th>UnitPrice</th>\n",
              "      <th>CustomerID</th>\n",
              "      <th>Country</th>\n",
              "    </tr>\n",
              "  </thead>\n",
              "  <tbody>\n",
              "    <tr>\n",
              "      <th>0</th>\n",
              "      <td>536365</td>\n",
              "      <td>85123A</td>\n",
              "      <td>WHITE HANGING HEART T-LIGHT HOLDER</td>\n",
              "      <td>6</td>\n",
              "      <td>2010-12-01 08:26:00</td>\n",
              "      <td>2.55</td>\n",
              "      <td>17850.0</td>\n",
              "      <td>United Kingdom</td>\n",
              "    </tr>\n",
              "    <tr>\n",
              "      <th>1</th>\n",
              "      <td>536365</td>\n",
              "      <td>71053</td>\n",
              "      <td>WHITE METAL LANTERN</td>\n",
              "      <td>6</td>\n",
              "      <td>2010-12-01 08:26:00</td>\n",
              "      <td>3.39</td>\n",
              "      <td>17850.0</td>\n",
              "      <td>United Kingdom</td>\n",
              "    </tr>\n",
              "    <tr>\n",
              "      <th>2</th>\n",
              "      <td>536365</td>\n",
              "      <td>84406B</td>\n",
              "      <td>CREAM CUPID HEARTS COAT HANGER</td>\n",
              "      <td>8</td>\n",
              "      <td>2010-12-01 08:26:00</td>\n",
              "      <td>2.75</td>\n",
              "      <td>17850.0</td>\n",
              "      <td>United Kingdom</td>\n",
              "    </tr>\n",
              "    <tr>\n",
              "      <th>3</th>\n",
              "      <td>536365</td>\n",
              "      <td>84029G</td>\n",
              "      <td>KNITTED UNION FLAG HOT WATER BOTTLE</td>\n",
              "      <td>6</td>\n",
              "      <td>2010-12-01 08:26:00</td>\n",
              "      <td>3.39</td>\n",
              "      <td>17850.0</td>\n",
              "      <td>United Kingdom</td>\n",
              "    </tr>\n",
              "    <tr>\n",
              "      <th>4</th>\n",
              "      <td>536365</td>\n",
              "      <td>84029E</td>\n",
              "      <td>RED WOOLLY HOTTIE WHITE HEART.</td>\n",
              "      <td>6</td>\n",
              "      <td>2010-12-01 08:26:00</td>\n",
              "      <td>3.39</td>\n",
              "      <td>17850.0</td>\n",
              "      <td>United Kingdom</td>\n",
              "    </tr>\n",
              "  </tbody>\n",
              "</table>\n",
              "</div>"
            ],
            "text/plain": [
              "  InvoiceNo StockCode  ... CustomerID         Country\n",
              "0    536365    85123A  ...    17850.0  United Kingdom\n",
              "1    536365     71053  ...    17850.0  United Kingdom\n",
              "2    536365    84406B  ...    17850.0  United Kingdom\n",
              "3    536365    84029G  ...    17850.0  United Kingdom\n",
              "4    536365    84029E  ...    17850.0  United Kingdom\n",
              "\n",
              "[5 rows x 8 columns]"
            ]
          },
          "metadata": {},
          "execution_count": 4
        }
      ]
    },
    {
      "cell_type": "code",
      "metadata": {
        "colab": {
          "base_uri": "https://localhost:8080/"
        },
        "id": "2XovkHfaEaaN",
        "outputId": "941438e4-38e5-4ead-c978-be0747b79ec2"
      },
      "source": [
        "df.info()"
      ],
      "execution_count": null,
      "outputs": [
        {
          "output_type": "stream",
          "name": "stdout",
          "text": [
            "<class 'pandas.core.frame.DataFrame'>\n",
            "RangeIndex: 541909 entries, 0 to 541908\n",
            "Data columns (total 8 columns):\n",
            " #   Column       Non-Null Count   Dtype         \n",
            "---  ------       --------------   -----         \n",
            " 0   InvoiceNo    541909 non-null  object        \n",
            " 1   StockCode    541909 non-null  object        \n",
            " 2   Description  540455 non-null  object        \n",
            " 3   Quantity     541909 non-null  int64         \n",
            " 4   InvoiceDate  541909 non-null  datetime64[ns]\n",
            " 5   UnitPrice    541909 non-null  float64       \n",
            " 6   CustomerID   406829 non-null  float64       \n",
            " 7   Country      541909 non-null  object        \n",
            "dtypes: datetime64[ns](1), float64(2), int64(1), object(4)\n",
            "memory usage: 33.1+ MB\n"
          ]
        }
      ]
    },
    {
      "cell_type": "markdown",
      "metadata": {
        "id": "-NgRGJ_vWSKY"
      },
      "source": [
        "## Data Explorating and Cleaning"
      ]
    },
    {
      "cell_type": "code",
      "metadata": {
        "colab": {
          "base_uri": "https://localhost:8080/"
        },
        "id": "7M4hFWMm8B0S",
        "outputId": "33e8fd4b-1bc2-4689-baf8-6aab6cd8a526"
      },
      "source": [
        "df.isnull().sum() # There are 1454 missing values in Description and 135080 missing values in CustomerID."
      ],
      "execution_count": null,
      "outputs": [
        {
          "output_type": "execute_result",
          "data": {
            "text/plain": [
              "InvoiceNo           0\n",
              "StockCode           0\n",
              "Description      1454\n",
              "Quantity            0\n",
              "InvoiceDate         0\n",
              "UnitPrice           0\n",
              "CustomerID     135080\n",
              "Country             0\n",
              "dtype: int64"
            ]
          },
          "metadata": {},
          "execution_count": 17
        }
      ]
    },
    {
      "cell_type": "code",
      "metadata": {
        "colab": {
          "base_uri": "https://localhost:8080/"
        },
        "id": "IVGU81OTMLG3",
        "outputId": "c571cea4-a8de-4d6c-f1bd-d863bb05bbfc"
      },
      "source": [
        "a = df.InvoiceNo.nunique() # num of orders\n",
        "b = df[df['CustomerID'].isnull()].InvoiceNo.nunique() # number of orders without customer ID\n",
        "print('There are %d orders totally, %d oders with customer ID and %d orders without.'%(a,a-b,b))"
      ],
      "execution_count": null,
      "outputs": [
        {
          "output_type": "stream",
          "name": "stdout",
          "text": [
            "There are 25900 orders totally, 22190 oders with customer ID and 3710 orders without.\n"
          ]
        }
      ]
    },
    {
      "cell_type": "code",
      "metadata": {
        "colab": {
          "base_uri": "https://localhost:8080/"
        },
        "id": "eCYqGa3N91bI",
        "outputId": "f215bfb8-60d6-4773-c915-897a32b2cecc"
      },
      "source": [
        "print('There are %d of registered customers'%(df['CustomerID'].nunique())) # Count number of customers "
      ],
      "execution_count": 80,
      "outputs": [
        {
          "output_type": "stream",
          "name": "stdout",
          "text": [
            "There are 4372 of registered customers\n"
          ]
        }
      ]
    },
    {
      "cell_type": "code",
      "metadata": {
        "colab": {
          "base_uri": "https://localhost:8080/",
          "height": 444
        },
        "id": "oS1C8BryDOuF",
        "outputId": "b68fa14c-ec7e-4dc2-828c-d6127f2e91e7"
      },
      "source": [
        "# Most items were bought by UK customers\n",
        "df.Country.value_counts()[:10].plot(kind='bar',figsize=(12,6));"
      ],
      "execution_count": 118,
      "outputs": [
        {
          "output_type": "display_data",
          "data": {
            "image/png": "[encoded data removed]",
            "text/plain": [
              "<Figure size 864x432 with 1 Axes>"
            ]
          },
          "metadata": {
            "needs_background": "light"
          }
        }
      ]
    },
    {
      "cell_type": "code",
      "metadata": {
        "colab": {
          "base_uri": "https://localhost:8080/",
          "height": 142
        },
        "id": "9SfhZlw4DsA0",
        "outputId": "0a0cceb2-3630-494e-8e59-ea2c99bc36d6"
      },
      "source": [
        "df['Sales'] = df['Quantity'] * df['UnitPrice'] \n",
        "df.head(3)"
      ],
      "execution_count": 5,
      "outputs": [
        {
          "output_type": "execute_result",
          "data": {
            "text/html": [
              "<div>\n",
              "<style scoped>\n",
              "    .dataframe tbody tr th:only-of-type {\n",
              "        vertical-align: middle;\n",
              "    }\n",
              "\n",
              "    .dataframe tbody tr th {\n",
              "        vertical-align: top;\n",
              "    }\n",
              "\n",
              "    .dataframe thead th {\n",
              "        text-align: right;\n",
              "    }\n",
              "</style>\n",
              "<table border=\"1\" class=\"dataframe\">\n",
              "  <thead>\n",
              "    <tr style=\"text-align: right;\">\n",
              "      <th></th>\n",
              "      <th>InvoiceNo</th>\n",
              "      <th>StockCode</th>\n",
              "      <th>Description</th>\n",
              "      <th>Quantity</th>\n",
              "      <th>InvoiceDate</th>\n",
              "      <th>UnitPrice</th>\n",
              "      <th>CustomerID</th>\n",
              "      <th>Country</th>\n",
              "      <th>Sales</th>\n",
              "    </tr>\n",
              "  </thead>\n",
              "  <tbody>\n",
              "    <tr>\n",
              "      <th>0</th>\n",
              "      <td>536365</td>\n",
              "      <td>85123A</td>\n",
              "      <td>WHITE HANGING HEART T-LIGHT HOLDER</td>\n",
              "      <td>6</td>\n",
              "      <td>2010-12-01 08:26:00</td>\n",
              "      <td>2.55</td>\n",
              "      <td>17850.0</td>\n",
              "      <td>United Kingdom</td>\n",
              "      <td>15.30</td>\n",
              "    </tr>\n",
              "    <tr>\n",
              "      <th>1</th>\n",
              "      <td>536365</td>\n",
              "      <td>71053</td>\n",
              "      <td>WHITE METAL LANTERN</td>\n",
              "      <td>6</td>\n",
              "      <td>2010-12-01 08:26:00</td>\n",
              "      <td>3.39</td>\n",
              "      <td>17850.0</td>\n",
              "      <td>United Kingdom</td>\n",
              "      <td>20.34</td>\n",
              "    </tr>\n",
              "    <tr>\n",
              "      <th>2</th>\n",
              "      <td>536365</td>\n",
              "      <td>84406B</td>\n",
              "      <td>CREAM CUPID HEARTS COAT HANGER</td>\n",
              "      <td>8</td>\n",
              "      <td>2010-12-01 08:26:00</td>\n",
              "      <td>2.75</td>\n",
              "      <td>17850.0</td>\n",
              "      <td>United Kingdom</td>\n",
              "      <td>22.00</td>\n",
              "    </tr>\n",
              "  </tbody>\n",
              "</table>\n",
              "</div>"
            ],
            "text/plain": [
              "  InvoiceNo StockCode  ...         Country  Sales\n",
              "0    536365    85123A  ...  United Kingdom  15.30\n",
              "1    536365     71053  ...  United Kingdom  20.34\n",
              "2    536365    84406B  ...  United Kingdom  22.00\n",
              "\n",
              "[3 rows x 9 columns]"
            ]
          },
          "metadata": {},
          "execution_count": 5
        }
      ]
    },
    {
      "cell_type": "code",
      "metadata": {
        "id": "ZvKkZWKLByew"
      },
      "source": [
        "df.index = df['InvoiceDate']\n",
        "df.drop(columns=['InvoiceDate'],inplace=True)"
      ],
      "execution_count": 7,
      "outputs": []
    },
    {
      "cell_type": "code",
      "metadata": {
        "colab": {
          "base_uri": "https://localhost:8080/",
          "height": 480
        },
        "id": "oxUwUEYFDKOs",
        "outputId": "2cd6c866-c2fe-4d85-99d0-b5a586c1bd54"
      },
      "source": [
        "table = df[['Quantity','Sales']].groupby(pd.Grouper(freq=\"M\")).sum()\n",
        "table"
      ],
      "execution_count": 8,
      "outputs": [
        {
          "output_type": "execute_result",
          "data": {
            "text/html": [
              "<div>\n",
              "<style scoped>\n",
              "    .dataframe tbody tr th:only-of-type {\n",
              "        vertical-align: middle;\n",
              "    }\n",
              "\n",
              "    .dataframe tbody tr th {\n",
              "        vertical-align: top;\n",
              "    }\n",
              "\n",
              "    .dataframe thead th {\n",
              "        text-align: right;\n",
              "    }\n",
              "</style>\n",
              "<table border=\"1\" class=\"dataframe\">\n",
              "  <thead>\n",
              "    <tr style=\"text-align: right;\">\n",
              "      <th></th>\n",
              "      <th>Quantity</th>\n",
              "      <th>Sales</th>\n",
              "    </tr>\n",
              "    <tr>\n",
              "      <th>InvoiceDate</th>\n",
              "      <th></th>\n",
              "      <th></th>\n",
              "    </tr>\n",
              "  </thead>\n",
              "  <tbody>\n",
              "    <tr>\n",
              "      <th>2010-12-31</th>\n",
              "      <td>342228</td>\n",
              "      <td>748957.020</td>\n",
              "    </tr>\n",
              "    <tr>\n",
              "      <th>2011-01-31</th>\n",
              "      <td>308966</td>\n",
              "      <td>560000.260</td>\n",
              "    </tr>\n",
              "    <tr>\n",
              "      <th>2011-02-28</th>\n",
              "      <td>277989</td>\n",
              "      <td>498062.650</td>\n",
              "    </tr>\n",
              "    <tr>\n",
              "      <th>2011-03-31</th>\n",
              "      <td>351872</td>\n",
              "      <td>683267.080</td>\n",
              "    </tr>\n",
              "    <tr>\n",
              "      <th>2011-04-30</th>\n",
              "      <td>289098</td>\n",
              "      <td>493207.121</td>\n",
              "    </tr>\n",
              "    <tr>\n",
              "      <th>2011-05-31</th>\n",
              "      <td>380391</td>\n",
              "      <td>723333.510</td>\n",
              "    </tr>\n",
              "    <tr>\n",
              "      <th>2011-06-30</th>\n",
              "      <td>341623</td>\n",
              "      <td>691123.120</td>\n",
              "    </tr>\n",
              "    <tr>\n",
              "      <th>2011-07-31</th>\n",
              "      <td>391116</td>\n",
              "      <td>681300.111</td>\n",
              "    </tr>\n",
              "    <tr>\n",
              "      <th>2011-08-31</th>\n",
              "      <td>406199</td>\n",
              "      <td>682680.510</td>\n",
              "    </tr>\n",
              "    <tr>\n",
              "      <th>2011-09-30</th>\n",
              "      <td>549817</td>\n",
              "      <td>1019687.622</td>\n",
              "    </tr>\n",
              "    <tr>\n",
              "      <th>2011-10-31</th>\n",
              "      <td>570532</td>\n",
              "      <td>1070704.670</td>\n",
              "    </tr>\n",
              "    <tr>\n",
              "      <th>2011-11-30</th>\n",
              "      <td>740286</td>\n",
              "      <td>1461756.250</td>\n",
              "    </tr>\n",
              "    <tr>\n",
              "      <th>2011-12-31</th>\n",
              "      <td>226333</td>\n",
              "      <td>433668.010</td>\n",
              "    </tr>\n",
              "  </tbody>\n",
              "</table>\n",
              "</div>"
            ],
            "text/plain": [
              "             Quantity        Sales\n",
              "InvoiceDate                       \n",
              "2010-12-31     342228   748957.020\n",
              "2011-01-31     308966   560000.260\n",
              "2011-02-28     277989   498062.650\n",
              "2011-03-31     351872   683267.080\n",
              "2011-04-30     289098   493207.121\n",
              "2011-05-31     380391   723333.510\n",
              "2011-06-30     341623   691123.120\n",
              "2011-07-31     391116   681300.111\n",
              "2011-08-31     406199   682680.510\n",
              "2011-09-30     549817  1019687.622\n",
              "2011-10-31     570532  1070704.670\n",
              "2011-11-30     740286  1461756.250\n",
              "2011-12-31     226333   433668.010"
            ]
          },
          "metadata": {},
          "execution_count": 8
        }
      ]
    },
    {
      "cell_type": "code",
      "metadata": {
        "colab": {
          "base_uri": "https://localhost:8080/",
          "height": 416
        },
        "id": "8nAKE_j1A0YC",
        "outputId": "97c1ddf7-5382-4b26-f819-22cd5750f55a"
      },
      "source": [
        "fig, ax = plt.subplots(figsize = (12,6))\n",
        "ax = table['Sales'].plot(label = 'Sales')\n",
        "for i,j in table['Sales'].items():\n",
        "    ax.annotate(str(round(j,0)), xy=(i, j))\n",
        "ax = table['Quantity'].plot(label = 'Quantity')\n",
        "for i,j in table['Quantity'].items():\n",
        "    ax.annotate(str(j), xy=(i, j))\n",
        "ax.legend(loc=0)\n",
        "ax.set_xlabel(\"Month-Year\")\n",
        "ax.set_ylabel(r\"Sales and Quantity per Month\")\n",
        "ax.set_xlim([dt.date(2010, 12, 31), dt.date(2011, 11, 30)])\n",
        "plt.title('Total Quantity and Sales per Month from Dec 2010 to Nov 2011')\n",
        "plt.show()"
      ],
      "execution_count": 9,
      "outputs": [
        {
          "output_type": "display_data",
          "data": {
            "image/png": "[encoded data removed]",
            "text/plain": [
              "<Figure size 864x432 with 1 Axes>"
            ]
          },
          "metadata": {
            "needs_background": "light"
          }
        }
      ]
    },
    {
      "cell_type": "markdown",
      "metadata": {
        "id": "4liqBJs6KJb1"
      },
      "source": [
        "The sales increase in the last season, probably because of the holiday."
      ]
    },
    {
      "cell_type": "code",
      "metadata": {
        "id": "p0NnsRrHv7UJ"
      },
      "source": [
        "# remove the rows without customer ID\n",
        "df.dropna(subset = ['CustomerID'], inplace=True)"
      ],
      "execution_count": 12,
      "outputs": []
    },
    {
      "cell_type": "markdown",
      "metadata": {
        "id": "EuC60H6f0IEN"
      },
      "source": [
        "#### Explore the possible reasons for negative quantity."
      ]
    },
    {
      "cell_type": "code",
      "metadata": {
        "colab": {
          "base_uri": "https://localhost:8080/"
        },
        "id": "lJnciqBJwur4",
        "outputId": "065053b4-4d21-4eeb-9505-4a6b59fd6803"
      },
      "source": [
        "len(df[df['Quantity']<0]) # There are 8905 rows with quantity less than 0."
      ],
      "execution_count": 15,
      "outputs": [
        {
          "output_type": "execute_result",
          "data": {
            "text/plain": [
              "8905"
            ]
          },
          "metadata": {},
          "execution_count": 15
        }
      ]
    },
    {
      "cell_type": "code",
      "metadata": {
        "colab": {
          "base_uri": "https://localhost:8080/",
          "height": 234
        },
        "id": "z3x_NgBEzA10",
        "outputId": "10c765e9-4ada-4f3c-8645-dab22b0e0a5a"
      },
      "source": [
        "df[df['Quantity']<0].head()"
      ],
      "execution_count": 26,
      "outputs": [
        {
          "output_type": "execute_result",
          "data": {
            "text/html": [
              "<div>\n",
              "<style scoped>\n",
              "    .dataframe tbody tr th:only-of-type {\n",
              "        vertical-align: middle;\n",
              "    }\n",
              "\n",
              "    .dataframe tbody tr th {\n",
              "        vertical-align: top;\n",
              "    }\n",
              "\n",
              "    .dataframe thead th {\n",
              "        text-align: right;\n",
              "    }\n",
              "</style>\n",
              "<table border=\"1\" class=\"dataframe\">\n",
              "  <thead>\n",
              "    <tr style=\"text-align: right;\">\n",
              "      <th></th>\n",
              "      <th>InvoiceNo</th>\n",
              "      <th>StockCode</th>\n",
              "      <th>Description</th>\n",
              "      <th>Quantity</th>\n",
              "      <th>UnitPrice</th>\n",
              "      <th>CustomerID</th>\n",
              "      <th>Country</th>\n",
              "      <th>Sales</th>\n",
              "    </tr>\n",
              "    <tr>\n",
              "      <th>InvoiceDate</th>\n",
              "      <th></th>\n",
              "      <th></th>\n",
              "      <th></th>\n",
              "      <th></th>\n",
              "      <th></th>\n",
              "      <th></th>\n",
              "      <th></th>\n",
              "      <th></th>\n",
              "    </tr>\n",
              "  </thead>\n",
              "  <tbody>\n",
              "    <tr>\n",
              "      <th>2010-12-01 09:41:00</th>\n",
              "      <td>C536379</td>\n",
              "      <td>D</td>\n",
              "      <td>Discount</td>\n",
              "      <td>-1</td>\n",
              "      <td>27.50</td>\n",
              "      <td>14527.0</td>\n",
              "      <td>United Kingdom</td>\n",
              "      <td>-27.50</td>\n",
              "    </tr>\n",
              "    <tr>\n",
              "      <th>2010-12-01 09:49:00</th>\n",
              "      <td>C536383</td>\n",
              "      <td>35004C</td>\n",
              "      <td>SET OF 3 COLOURED  FLYING DUCKS</td>\n",
              "      <td>-1</td>\n",
              "      <td>4.65</td>\n",
              "      <td>15311.0</td>\n",
              "      <td>United Kingdom</td>\n",
              "      <td>-4.65</td>\n",
              "    </tr>\n",
              "    <tr>\n",
              "      <th>2010-12-01 10:24:00</th>\n",
              "      <td>C536391</td>\n",
              "      <td>22556</td>\n",
              "      <td>PLASTERS IN TIN CIRCUS PARADE</td>\n",
              "      <td>-12</td>\n",
              "      <td>1.65</td>\n",
              "      <td>17548.0</td>\n",
              "      <td>United Kingdom</td>\n",
              "      <td>-19.80</td>\n",
              "    </tr>\n",
              "    <tr>\n",
              "      <th>2010-12-01 10:24:00</th>\n",
              "      <td>C536391</td>\n",
              "      <td>21984</td>\n",
              "      <td>PACK OF 12 PINK PAISLEY TISSUES</td>\n",
              "      <td>-24</td>\n",
              "      <td>0.29</td>\n",
              "      <td>17548.0</td>\n",
              "      <td>United Kingdom</td>\n",
              "      <td>-6.96</td>\n",
              "    </tr>\n",
              "    <tr>\n",
              "      <th>2010-12-01 10:24:00</th>\n",
              "      <td>C536391</td>\n",
              "      <td>21983</td>\n",
              "      <td>PACK OF 12 BLUE PAISLEY TISSUES</td>\n",
              "      <td>-24</td>\n",
              "      <td>0.29</td>\n",
              "      <td>17548.0</td>\n",
              "      <td>United Kingdom</td>\n",
              "      <td>-6.96</td>\n",
              "    </tr>\n",
              "  </tbody>\n",
              "</table>\n",
              "</div>"
            ],
            "text/plain": [
              "                    InvoiceNo StockCode  ...         Country  Sales\n",
              "InvoiceDate                              ...                       \n",
              "2010-12-01 09:41:00   C536379         D  ...  United Kingdom -27.50\n",
              "2010-12-01 09:49:00   C536383    35004C  ...  United Kingdom  -4.65\n",
              "2010-12-01 10:24:00   C536391     22556  ...  United Kingdom -19.80\n",
              "2010-12-01 10:24:00   C536391     21984  ...  United Kingdom  -6.96\n",
              "2010-12-01 10:24:00   C536391     21983  ...  United Kingdom  -6.96\n",
              "\n",
              "[5 rows x 8 columns]"
            ]
          },
          "metadata": {},
          "execution_count": 26
        }
      ]
    },
    {
      "cell_type": "code",
      "metadata": {
        "colab": {
          "base_uri": "https://localhost:8080/"
        },
        "id": "VNq0Q02cTKZf",
        "outputId": "2352be4d-370e-469a-9ea9-d56214bb511e"
      },
      "source": [
        "# Inspecting the stock code\n",
        "df[df.StockCode.map(lambda x:len(str(x))<5)].StockCode.unique() # Find out all types of stock code with string length less than 5."
      ],
      "execution_count": 43,
      "outputs": [
        {
          "output_type": "execute_result",
          "data": {
            "text/plain": [
              "array(['POST', 'D', 'C2', 'M', 'PADS', 'DOT', 'CRUK'], dtype=object)"
            ]
          },
          "metadata": {},
          "execution_count": 43
        }
      ]
    },
    {
      "cell_type": "code",
      "metadata": {
        "colab": {
          "base_uri": "https://localhost:8080/"
        },
        "id": "Ruuie5vtT2rQ",
        "outputId": "26ef1bc2-a301-4847-f976-113023c11e8c"
      },
      "source": [
        "for ch in ['POST', 'D', 'C2', 'DOT', 'M', 'S', 'm', 'PADS', 'B', 'CRUK']: # Print out corresponding descriptions.\n",
        "   print(df[df['StockCode']==ch][['StockCode','Description']].head(1))"
      ],
      "execution_count": 44,
      "outputs": [
        {
          "output_type": "stream",
          "name": "stdout",
          "text": [
            "                    StockCode Description\n",
            "InvoiceDate                              \n",
            "2010-12-01 08:45:00      POST     POSTAGE\n",
            "                    StockCode Description\n",
            "InvoiceDate                              \n",
            "2010-12-01 09:41:00         D    Discount\n",
            "                    StockCode Description\n",
            "InvoiceDate                              \n",
            "2010-12-01 14:05:00        C2    CARRIAGE\n",
            "                    StockCode     Description\n",
            "InvoiceDate                                  \n",
            "2011-08-30 10:49:00       DOT  DOTCOM POSTAGE\n",
            "                    StockCode Description\n",
            "InvoiceDate                              \n",
            "2010-12-01 15:35:00         M      Manual\n",
            "Empty DataFrame\n",
            "Columns: [StockCode, Description]\n",
            "Index: []\n",
            "Empty DataFrame\n",
            "Columns: [StockCode, Description]\n",
            "Index: []\n",
            "                    StockCode                 Description\n",
            "InvoiceDate                                              \n",
            "2011-04-15 09:27:00      PADS  PADS TO MATCH ALL CUSHIONS\n",
            "Empty DataFrame\n",
            "Columns: [StockCode, Description]\n",
            "Index: []\n",
            "                    StockCode      Description\n",
            "InvoiceDate                                   \n",
            "2011-08-30 10:49:00      CRUK  CRUK Commission\n"
          ]
        }
      ]
    },
    {
      "cell_type": "markdown",
      "metadata": {
        "id": "xQ9y5qwS0iZp"
      },
      "source": [
        "It seems that the stock codes listed above are not the unique code corresponding to a retail merchandise."
      ]
    },
    {
      "cell_type": "code",
      "metadata": {
        "colab": {
          "base_uri": "https://localhost:8080/"
        },
        "id": "jjshffSe1dWL",
        "outputId": "d829053a-5cef-4e07-89ae-c156bd655647"
      },
      "source": [
        "# Number of customers who have returned the items.\n",
        "ret_df = df[df.StockCode.map(lambda x:len(str(x))>5)].query('Quantity<0').groupby('CustomerID').count().sort_values(['InvoiceNo'], ascending=False)\n",
        "ret_df['InvoiceNo'].head(10)"
      ],
      "execution_count": 76,
      "outputs": [
        {
          "output_type": "execute_result",
          "data": {
            "text/plain": [
              "CustomerID\n",
              "14911.0    44\n",
              "15311.0    20\n",
              "17841.0    15\n",
              "15005.0    11\n",
              "17511.0    11\n",
              "13777.0    10\n",
              "13798.0    10\n",
              "14410.0     9\n",
              "13534.0     8\n",
              "16859.0     7\n",
              "Name: InvoiceNo, dtype: int64"
            ]
          },
          "metadata": {},
          "execution_count": 76
        }
      ]
    },
    {
      "cell_type": "markdown",
      "metadata": {
        "id": "l6YAMj6s8_OI"
      },
      "source": [
        "Customer 14911 returned 44 items during the inspected period."
      ]
    },
    {
      "cell_type": "code",
      "metadata": {
        "colab": {
          "base_uri": "https://localhost:8080/",
          "height": 404
        },
        "id": "V5gxmVeK6vIg",
        "outputId": "c95a9d4c-e45b-48e9-db1e-6b401ad41ee4"
      },
      "source": [
        "fig, ax = plt.subplots(figsize = (12,6))\n",
        "ax = ret_df['InvoiceNo'].plot(kind='hist',bins=44)\n",
        "ax.grid()\n",
        "ax.set_xlabel('Number of Returned Items')\n",
        "ax.set_ylabel('Number of Customer')\n",
        "ax.set_title('How many customers return X items')\n",
        "plt.show()"
      ],
      "execution_count": 77,
      "outputs": [
        {
          "output_type": "display_data",
          "data": {
            "image/png": "[encoded data removed]",
            "text/plain": [
              "<Figure size 864x432 with 1 Axes>"
            ]
          },
          "metadata": {
            "needs_background": "light"
          }
        }
      ]
    },
    {
      "cell_type": "markdown",
      "metadata": {
        "id": "PZl0q9IiSlTt"
      },
      "source": [
        "**Customers Lifetime Value**\n",
        "\n"
      ]
    },
    {
      "cell_type": "code",
      "metadata": {
        "id": "3_-pxoyl-aLL"
      },
      "source": [
        "#df.reset_index(level=0, inplace=True) # reset the index \n",
        "df['InvoiceDate'] = pd.to_datetime(df['InvoiceDate']).dt.date # remain the date part only\n",
        "df = df[(df['Quantity']>0)] # remove the rows with quantity <= 0\n",
        "cols_of_interest = ['CustomerID', 'InvoiceDate', 'Sales']\n",
        "df1 = df[cols_of_interest]"
      ],
      "execution_count": 85,
      "outputs": []
    },
    {
      "cell_type": "code",
      "metadata": {
        "colab": {
          "base_uri": "https://localhost:8080/",
          "height": 203
        },
        "id": "BFx9PJKT_wNx",
        "outputId": "5e16061e-3a2e-45c2-c106-acc07bc80a5f"
      },
      "source": [
        "df1.head()"
      ],
      "execution_count": 86,
      "outputs": [
        {
          "output_type": "execute_result",
          "data": {
            "text/html": [
              "<div>\n",
              "<style scoped>\n",
              "    .dataframe tbody tr th:only-of-type {\n",
              "        vertical-align: middle;\n",
              "    }\n",
              "\n",
              "    .dataframe tbody tr th {\n",
              "        vertical-align: top;\n",
              "    }\n",
              "\n",
              "    .dataframe thead th {\n",
              "        text-align: right;\n",
              "    }\n",
              "</style>\n",
              "<table border=\"1\" class=\"dataframe\">\n",
              "  <thead>\n",
              "    <tr style=\"text-align: right;\">\n",
              "      <th></th>\n",
              "      <th>CustomerID</th>\n",
              "      <th>InvoiceDate</th>\n",
              "      <th>Sales</th>\n",
              "    </tr>\n",
              "  </thead>\n",
              "  <tbody>\n",
              "    <tr>\n",
              "      <th>0</th>\n",
              "      <td>17850.0</td>\n",
              "      <td>2010-12-01</td>\n",
              "      <td>15.30</td>\n",
              "    </tr>\n",
              "    <tr>\n",
              "      <th>1</th>\n",
              "      <td>17850.0</td>\n",
              "      <td>2010-12-01</td>\n",
              "      <td>20.34</td>\n",
              "    </tr>\n",
              "    <tr>\n",
              "      <th>2</th>\n",
              "      <td>17850.0</td>\n",
              "      <td>2010-12-01</td>\n",
              "      <td>22.00</td>\n",
              "    </tr>\n",
              "    <tr>\n",
              "      <th>3</th>\n",
              "      <td>17850.0</td>\n",
              "      <td>2010-12-01</td>\n",
              "      <td>20.34</td>\n",
              "    </tr>\n",
              "    <tr>\n",
              "      <th>4</th>\n",
              "      <td>17850.0</td>\n",
              "      <td>2010-12-01</td>\n",
              "      <td>20.34</td>\n",
              "    </tr>\n",
              "  </tbody>\n",
              "</table>\n",
              "</div>"
            ],
            "text/plain": [
              "   CustomerID InvoiceDate  Sales\n",
              "0     17850.0  2010-12-01  15.30\n",
              "1     17850.0  2010-12-01  20.34\n",
              "2     17850.0  2010-12-01  22.00\n",
              "3     17850.0  2010-12-01  20.34\n",
              "4     17850.0  2010-12-01  20.34"
            ]
          },
          "metadata": {},
          "execution_count": 86
        }
      ]
    },
    {
      "cell_type": "code",
      "metadata": {
        "colab": {
          "base_uri": "https://localhost:8080/"
        },
        "id": "94Yo8pq9_1Gk",
        "outputId": "aea7f4c7-68a9-4568-dcb7-044ab34ca47f"
      },
      "source": [
        "print(df1['CustomerID'].nunique())"
      ],
      "execution_count": 87,
      "outputs": [
        {
          "output_type": "stream",
          "name": "stdout",
          "text": [
            "4339\n"
          ]
        }
      ]
    },
    {
      "cell_type": "code",
      "metadata": {
        "colab": {
          "base_uri": "https://localhost:8080/",
          "height": 234
        },
        "id": "vApGvfVPSg2g",
        "outputId": "fee744f0-d7c9-42f0-fe89-a1213314e345"
      },
      "source": [
        "#Calculate customers' shopping frequency, the length of time observing new customers and recency\n",
        "data = summary_data_from_transaction_data(df1,'CustomerID','InvoiceDate', monetary_value_col='Sales',observation_period_end='2011-12-09')\n",
        "data.head()"
      ],
      "execution_count": 88,
      "outputs": [
        {
          "output_type": "execute_result",
          "data": {
            "text/html": [
              "<div>\n",
              "<style scoped>\n",
              "    .dataframe tbody tr th:only-of-type {\n",
              "        vertical-align: middle;\n",
              "    }\n",
              "\n",
              "    .dataframe tbody tr th {\n",
              "        vertical-align: top;\n",
              "    }\n",
              "\n",
              "    .dataframe thead th {\n",
              "        text-align: right;\n",
              "    }\n",
              "</style>\n",
              "<table border=\"1\" class=\"dataframe\">\n",
              "  <thead>\n",
              "    <tr style=\"text-align: right;\">\n",
              "      <th></th>\n",
              "      <th>frequency</th>\n",
              "      <th>recency</th>\n",
              "      <th>T</th>\n",
              "      <th>monetary_value</th>\n",
              "    </tr>\n",
              "    <tr>\n",
              "      <th>CustomerID</th>\n",
              "      <th></th>\n",
              "      <th></th>\n",
              "      <th></th>\n",
              "      <th></th>\n",
              "    </tr>\n",
              "  </thead>\n",
              "  <tbody>\n",
              "    <tr>\n",
              "      <th>12346.0</th>\n",
              "      <td>0.0</td>\n",
              "      <td>0.0</td>\n",
              "      <td>325.0</td>\n",
              "      <td>0.000000</td>\n",
              "    </tr>\n",
              "    <tr>\n",
              "      <th>12347.0</th>\n",
              "      <td>6.0</td>\n",
              "      <td>365.0</td>\n",
              "      <td>367.0</td>\n",
              "      <td>599.701667</td>\n",
              "    </tr>\n",
              "    <tr>\n",
              "      <th>12348.0</th>\n",
              "      <td>3.0</td>\n",
              "      <td>283.0</td>\n",
              "      <td>358.0</td>\n",
              "      <td>301.480000</td>\n",
              "    </tr>\n",
              "    <tr>\n",
              "      <th>12349.0</th>\n",
              "      <td>0.0</td>\n",
              "      <td>0.0</td>\n",
              "      <td>18.0</td>\n",
              "      <td>0.000000</td>\n",
              "    </tr>\n",
              "    <tr>\n",
              "      <th>12350.0</th>\n",
              "      <td>0.0</td>\n",
              "      <td>0.0</td>\n",
              "      <td>310.0</td>\n",
              "      <td>0.000000</td>\n",
              "    </tr>\n",
              "  </tbody>\n",
              "</table>\n",
              "</div>"
            ],
            "text/plain": [
              "            frequency  recency      T  monetary_value\n",
              "CustomerID                                           \n",
              "12346.0           0.0      0.0  325.0        0.000000\n",
              "12347.0           6.0    365.0  367.0      599.701667\n",
              "12348.0           3.0    283.0  358.0      301.480000\n",
              "12349.0           0.0      0.0   18.0        0.000000\n",
              "12350.0           0.0      0.0  310.0        0.000000"
            ]
          },
          "metadata": {},
          "execution_count": 88
        }
      ]
    },
    {
      "cell_type": "markdown",
      "metadata": {
        "id": "0FWA3BAVcRCO"
      },
      "source": [
        "Customer 12346 made one purchase 325 days ago, and no more purchase made later."
      ]
    },
    {
      "cell_type": "code",
      "metadata": {
        "colab": {
          "base_uri": "https://localhost:8080/",
          "height": 295
        },
        "id": "5p7lp1AyaJKi",
        "outputId": "533c2f6f-d732-45f4-92ab-1570cff17d8a"
      },
      "source": [
        "df[df['CustomerID'] == 12347.0][['InvoiceNo','Sales','InvoiceDate',]].groupby(['InvoiceNo','InvoiceDate']).sum()"
      ],
      "execution_count": 89,
      "outputs": [
        {
          "output_type": "execute_result",
          "data": {
            "text/html": [
              "<div>\n",
              "<style scoped>\n",
              "    .dataframe tbody tr th:only-of-type {\n",
              "        vertical-align: middle;\n",
              "    }\n",
              "\n",
              "    .dataframe tbody tr th {\n",
              "        vertical-align: top;\n",
              "    }\n",
              "\n",
              "    .dataframe thead th {\n",
              "        text-align: right;\n",
              "    }\n",
              "</style>\n",
              "<table border=\"1\" class=\"dataframe\">\n",
              "  <thead>\n",
              "    <tr style=\"text-align: right;\">\n",
              "      <th></th>\n",
              "      <th></th>\n",
              "      <th>Sales</th>\n",
              "    </tr>\n",
              "    <tr>\n",
              "      <th>InvoiceNo</th>\n",
              "      <th>InvoiceDate</th>\n",
              "      <th></th>\n",
              "    </tr>\n",
              "  </thead>\n",
              "  <tbody>\n",
              "    <tr>\n",
              "      <th>537626</th>\n",
              "      <th>2010-12-07</th>\n",
              "      <td>711.79</td>\n",
              "    </tr>\n",
              "    <tr>\n",
              "      <th>542237</th>\n",
              "      <th>2011-01-26</th>\n",
              "      <td>475.39</td>\n",
              "    </tr>\n",
              "    <tr>\n",
              "      <th>549222</th>\n",
              "      <th>2011-04-07</th>\n",
              "      <td>636.25</td>\n",
              "    </tr>\n",
              "    <tr>\n",
              "      <th>556201</th>\n",
              "      <th>2011-06-09</th>\n",
              "      <td>382.52</td>\n",
              "    </tr>\n",
              "    <tr>\n",
              "      <th>562032</th>\n",
              "      <th>2011-08-02</th>\n",
              "      <td>584.91</td>\n",
              "    </tr>\n",
              "    <tr>\n",
              "      <th>573511</th>\n",
              "      <th>2011-10-31</th>\n",
              "      <td>1294.32</td>\n",
              "    </tr>\n",
              "    <tr>\n",
              "      <th>581180</th>\n",
              "      <th>2011-12-07</th>\n",
              "      <td>224.82</td>\n",
              "    </tr>\n",
              "  </tbody>\n",
              "</table>\n",
              "</div>"
            ],
            "text/plain": [
              "                         Sales\n",
              "InvoiceNo InvoiceDate         \n",
              "537626    2010-12-07    711.79\n",
              "542237    2011-01-26    475.39\n",
              "549222    2011-04-07    636.25\n",
              "556201    2011-06-09    382.52\n",
              "562032    2011-08-02    584.91\n",
              "573511    2011-10-31   1294.32\n",
              "581180    2011-12-07    224.82"
            ]
          },
          "metadata": {},
          "execution_count": 89
        }
      ]
    },
    {
      "cell_type": "code",
      "metadata": {
        "colab": {
          "base_uri": "https://localhost:8080/"
        },
        "id": "hhvSGBYTd6sr",
        "outputId": "373ff7d6-21fe-4311-ad55-a739a3d9c5e1"
      },
      "source": [
        "print(data.describe())\n",
        "p = \"{:.2%}\".format(sum(data['frequency'] == 0)/float(len(data)))\n",
        "print('\\n %d customers perchase only one time, taking a %s of population. \\n' %(sum(data['frequency'] == 0), p))                                             "
      ],
      "execution_count": 90,
      "outputs": [
        {
          "output_type": "stream",
          "name": "stdout",
          "text": [
            "         frequency      recency            T  monetary_value\n",
            "count  4339.000000  4339.000000  4339.000000     4339.000000\n",
            "mean      2.864024   130.741415   222.782899      306.944168\n",
            "std       5.952745   132.210176   117.883623     2612.453380\n",
            "min       0.000000     0.000000     0.000000        0.000000\n",
            "25%       0.000000     0.000000   112.000000        0.000000\n",
            "50%       1.000000    93.000000   248.000000      176.940000\n",
            "75%       3.000000   252.000000   326.000000      360.161667\n",
            "max     131.000000   373.000000   373.000000   168469.600000\n",
            "\n",
            " 1549 customers perchase only one time, taking a 35.70% of population. \n",
            "\n"
          ]
        }
      ]
    },
    {
      "cell_type": "code",
      "metadata": {
        "colab": {
          "base_uri": "https://localhost:8080/",
          "height": 404
        },
        "id": "aP2LDdfOAZY2",
        "outputId": "3e66bfef-49cb-4422-9b05-f2ad6c614523"
      },
      "source": [
        "fig, ax = plt.subplots(figsize = (12,6))\n",
        "ax = data['frequency'].plot(kind='hist',bins=131)\n",
        "ax.grid()\n",
        "ax.set_xlabel('Number of Purchase')\n",
        "ax.set_ylabel('Number of Customer')\n",
        "ax.set_title('How many customers purchase x times')\n",
        "plt.show()"
      ],
      "execution_count": 93,
      "outputs": [
        {
          "output_type": "display_data",
          "data": {
            "image/png": "[encoded data removed]",
            "text/plain": [
              "<Figure size 864x432 with 1 Axes>"
            ]
          },
          "metadata": {
            "needs_background": "light"
          }
        }
      ]
    },
    {
      "cell_type": "markdown",
      "metadata": {
        "id": "kuWsXUOz3S2o"
      },
      "source": [
        "**Customer Stickness Analysis based on BG/NBD**"
      ]
    },
    {
      "cell_type": "code",
      "metadata": {
        "colab": {
          "base_uri": "https://localhost:8080/"
        },
        "id": "Xy8HG3pQef71",
        "outputId": "56349000-aa03-4149-d89f-5dc05edd55a8"
      },
      "source": [
        "from lifetimes import BetaGeoFitter\n",
        "bgf = BetaGeoFitter(penalizer_coef=0.0) \n",
        "bgf.fit(data['frequency'], data['recency'], data['T']) \n",
        "print(bgf)"
      ],
      "execution_count": 94,
      "outputs": [
        {
          "output_type": "stream",
          "name": "stdout",
          "text": [
            "<lifetimes.BetaGeoFitter: fitted with 4339 subjects, a: 0.00, alpha: 68.89, b: 6.75, r: 0.83>\n"
          ]
        }
      ]
    },
    {
      "cell_type": "code",
      "metadata": {
        "colab": {
          "base_uri": "https://localhost:8080/",
          "height": 172
        },
        "id": "Fz7vYqwh4i-0",
        "outputId": "5d3b369f-e6f4-4f32-d96a-9b19dabc445d"
      },
      "source": [
        "bgf.summary"
      ],
      "execution_count": 95,
      "outputs": [
        {
          "output_type": "execute_result",
          "data": {
            "text/html": [
              "<div>\n",
              "<style scoped>\n",
              "    .dataframe tbody tr th:only-of-type {\n",
              "        vertical-align: middle;\n",
              "    }\n",
              "\n",
              "    .dataframe tbody tr th {\n",
              "        vertical-align: top;\n",
              "    }\n",
              "\n",
              "    .dataframe thead th {\n",
              "        text-align: right;\n",
              "    }\n",
              "</style>\n",
              "<table border=\"1\" class=\"dataframe\">\n",
              "  <thead>\n",
              "    <tr style=\"text-align: right;\">\n",
              "      <th></th>\n",
              "      <th>coef</th>\n",
              "      <th>se(coef)</th>\n",
              "      <th>lower 95% bound</th>\n",
              "      <th>upper 95% bound</th>\n",
              "    </tr>\n",
              "  </thead>\n",
              "  <tbody>\n",
              "    <tr>\n",
              "      <th>r</th>\n",
              "      <td>0.826433</td>\n",
              "      <td>0.026780</td>\n",
              "      <td>0.773944</td>\n",
              "      <td>0.878922</td>\n",
              "    </tr>\n",
              "    <tr>\n",
              "      <th>alpha</th>\n",
              "      <td>68.890678</td>\n",
              "      <td>2.611055</td>\n",
              "      <td>63.773011</td>\n",
              "      <td>74.008345</td>\n",
              "    </tr>\n",
              "    <tr>\n",
              "      <th>a</th>\n",
              "      <td>0.003443</td>\n",
              "      <td>0.010347</td>\n",
              "      <td>-0.016837</td>\n",
              "      <td>0.023722</td>\n",
              "    </tr>\n",
              "    <tr>\n",
              "      <th>b</th>\n",
              "      <td>6.749363</td>\n",
              "      <td>22.412933</td>\n",
              "      <td>-37.179985</td>\n",
              "      <td>50.678711</td>\n",
              "    </tr>\n",
              "  </tbody>\n",
              "</table>\n",
              "</div>"
            ],
            "text/plain": [
              "            coef   se(coef)  lower 95% bound  upper 95% bound\n",
              "r       0.826433   0.026780         0.773944         0.878922\n",
              "alpha  68.890678   2.611055        63.773011        74.008345\n",
              "a       0.003443   0.010347        -0.016837         0.023722\n",
              "b       6.749363  22.412933       -37.179985        50.678711"
            ]
          },
          "metadata": {},
          "execution_count": 95
        }
      ]
    },
    {
      "cell_type": "markdown",
      "metadata": {
        "id": "i6jHvBns3Lq3"
      },
      "source": [
        "**Visualization of Frequency/Recency Matrix**"
      ]
    },
    {
      "cell_type": "code",
      "metadata": {
        "colab": {
          "base_uri": "https://localhost:8080/",
          "height": 528
        },
        "id": "QM_YWVPi04OF",
        "outputId": "15695222-ce73-4120-d957-53ee82fd9411"
      },
      "source": [
        "#from lifetimes.plotting import plot_frequency_recency_matrix\n",
        "fig = plt.figure(figsize=(12,8))\n",
        "plt.grid()\n",
        "plot_frequency_recency_matrix(bgf); "
      ],
      "execution_count": 96,
      "outputs": [
        {
          "output_type": "display_data",
          "data": {
            "image/png": "[encoded data removed]",
            "text/plain": [
              "<Figure size 864x576 with 2 Axes>"
            ]
          },
          "metadata": {
            "needs_background": "light"
          }
        }
      ]
    },
    {
      "cell_type": "markdown",
      "metadata": {
        "id": "Cj68sut-BbtL"
      },
      "source": [
        "We can see that if a customer has bought more than 120 times, and his/her latest purchase was when he/she was more than 350 days old, then this is our best customer (bottom-right). The coldest customers are those that are in the top-right corner: they bought a lot quickly, and we haven’t seen them in weeks.\n",
        "\n",
        "There’s also a tail around (20,250). That represents the customer who buys not that frequently, but we’ve seen him or her recently, so they might buy again - we’re not sure if they are dead or just between purchases."
      ]
    },
    {
      "cell_type": "code",
      "metadata": {
        "colab": {
          "base_uri": "https://localhost:8080/",
          "height": 110
        },
        "id": "oQHaPl0aCqFZ",
        "outputId": "c239a4c6-3fbe-4e91-e949-7012dfab3ac6"
      },
      "source": [
        "# The best customer\n",
        "data[data['frequency']>=120]"
      ],
      "execution_count": 97,
      "outputs": [
        {
          "output_type": "execute_result",
          "data": {
            "text/html": [
              "<div>\n",
              "<style scoped>\n",
              "    .dataframe tbody tr th:only-of-type {\n",
              "        vertical-align: middle;\n",
              "    }\n",
              "\n",
              "    .dataframe tbody tr th {\n",
              "        vertical-align: top;\n",
              "    }\n",
              "\n",
              "    .dataframe thead th {\n",
              "        text-align: right;\n",
              "    }\n",
              "</style>\n",
              "<table border=\"1\" class=\"dataframe\">\n",
              "  <thead>\n",
              "    <tr style=\"text-align: right;\">\n",
              "      <th></th>\n",
              "      <th>frequency</th>\n",
              "      <th>recency</th>\n",
              "      <th>T</th>\n",
              "      <th>monetary_value</th>\n",
              "    </tr>\n",
              "    <tr>\n",
              "      <th>CustomerID</th>\n",
              "      <th></th>\n",
              "      <th></th>\n",
              "      <th></th>\n",
              "      <th></th>\n",
              "    </tr>\n",
              "  </thead>\n",
              "  <tbody>\n",
              "    <tr>\n",
              "      <th>14911.0</th>\n",
              "      <td>131.0</td>\n",
              "      <td>372.0</td>\n",
              "      <td>373.0</td>\n",
              "      <td>1093.661679</td>\n",
              "    </tr>\n",
              "  </tbody>\n",
              "</table>\n",
              "</div>"
            ],
            "text/plain": [
              "            frequency  recency      T  monetary_value\n",
              "CustomerID                                           \n",
              "14911.0         131.0    372.0  373.0     1093.661679"
            ]
          },
          "metadata": {},
          "execution_count": 97
        }
      ]
    },
    {
      "cell_type": "code",
      "metadata": {
        "colab": {
          "base_uri": "https://localhost:8080/",
          "height": 447
        },
        "id": "B9LdVIj2CwNI",
        "outputId": "b0e5b29f-3e79-4e1c-e8ae-d8293ccdf55b"
      },
      "source": [
        "df[df['CustomerID'] == 14911][['InvoiceNo','Sales','InvoiceDate',]].groupby(['InvoiceNo','InvoiceDate']).sum()"
      ],
      "execution_count": 98,
      "outputs": [
        {
          "output_type": "execute_result",
          "data": {
            "text/html": [
              "<div>\n",
              "<style scoped>\n",
              "    .dataframe tbody tr th:only-of-type {\n",
              "        vertical-align: middle;\n",
              "    }\n",
              "\n",
              "    .dataframe tbody tr th {\n",
              "        vertical-align: top;\n",
              "    }\n",
              "\n",
              "    .dataframe thead th {\n",
              "        text-align: right;\n",
              "    }\n",
              "</style>\n",
              "<table border=\"1\" class=\"dataframe\">\n",
              "  <thead>\n",
              "    <tr style=\"text-align: right;\">\n",
              "      <th></th>\n",
              "      <th></th>\n",
              "      <th>Sales</th>\n",
              "    </tr>\n",
              "    <tr>\n",
              "      <th>InvoiceNo</th>\n",
              "      <th>InvoiceDate</th>\n",
              "      <th></th>\n",
              "    </tr>\n",
              "  </thead>\n",
              "  <tbody>\n",
              "    <tr>\n",
              "      <th>536540</th>\n",
              "      <th>2010-12-01</th>\n",
              "      <td>540.38</td>\n",
              "    </tr>\n",
              "    <tr>\n",
              "      <th>536541</th>\n",
              "      <th>2010-12-01</th>\n",
              "      <td>15.00</td>\n",
              "    </tr>\n",
              "    <tr>\n",
              "      <th>536803</th>\n",
              "      <th>2010-12-02</th>\n",
              "      <td>22.50</td>\n",
              "    </tr>\n",
              "    <tr>\n",
              "      <th>536975</th>\n",
              "      <th>2010-12-03</th>\n",
              "      <td>1705.65</td>\n",
              "    </tr>\n",
              "    <tr>\n",
              "      <th>537368</th>\n",
              "      <th>2010-12-06</th>\n",
              "      <td>377.50</td>\n",
              "    </tr>\n",
              "    <tr>\n",
              "      <th>...</th>\n",
              "      <th>...</th>\n",
              "      <td>...</td>\n",
              "    </tr>\n",
              "    <tr>\n",
              "      <th>580557</th>\n",
              "      <th>2011-12-05</th>\n",
              "      <td>75.40</td>\n",
              "    </tr>\n",
              "    <tr>\n",
              "      <th>581003</th>\n",
              "      <th>2011-12-07</th>\n",
              "      <td>1273.15</td>\n",
              "    </tr>\n",
              "    <tr>\n",
              "      <th>581006</th>\n",
              "      <th>2011-12-07</th>\n",
              "      <td>1186.78</td>\n",
              "    </tr>\n",
              "    <tr>\n",
              "      <th>581098</th>\n",
              "      <th>2011-12-07</th>\n",
              "      <td>1396.96</td>\n",
              "    </tr>\n",
              "    <tr>\n",
              "      <th>581433</th>\n",
              "      <th>2011-12-08</th>\n",
              "      <td>1084.14</td>\n",
              "    </tr>\n",
              "  </tbody>\n",
              "</table>\n",
              "<p>201 rows × 1 columns</p>\n",
              "</div>"
            ],
            "text/plain": [
              "                         Sales\n",
              "InvoiceNo InvoiceDate         \n",
              "536540    2010-12-01    540.38\n",
              "536541    2010-12-01     15.00\n",
              "536803    2010-12-02     22.50\n",
              "536975    2010-12-03   1705.65\n",
              "537368    2010-12-06    377.50\n",
              "...                        ...\n",
              "580557    2011-12-05     75.40\n",
              "581003    2011-12-07   1273.15\n",
              "581006    2011-12-07   1186.78\n",
              "581098    2011-12-07   1396.96\n",
              "581433    2011-12-08   1084.14\n",
              "\n",
              "[201 rows x 1 columns]"
            ]
          },
          "metadata": {},
          "execution_count": 98
        }
      ]
    },
    {
      "cell_type": "markdown",
      "metadata": {
        "id": "ULr6NMmkMEzV"
      },
      "source": [
        "**probability of still being alive**"
      ]
    },
    {
      "cell_type": "code",
      "metadata": {
        "colab": {
          "base_uri": "https://localhost:8080/",
          "height": 528
        },
        "id": "RQgHkkbR33oB",
        "outputId": "cbc39b9e-22c6-40bb-d251-34e6efad1c88"
      },
      "source": [
        "from lifetimes.plotting import plot_probability_alive_matrix\n",
        "fig = plt.figure(figsize=(12,8))\n",
        "plt.grid()\n",
        "plot_probability_alive_matrix(bgf); #Predict alive customers"
      ],
      "execution_count": 99,
      "outputs": [
        {
          "output_type": "display_data",
          "data": {
            "image/png": "[encoded data removed]",
            "text/plain": [
              "<Figure size 864x576 with 2 Axes>"
            ]
          },
          "metadata": {
            "needs_background": "light"
          }
        }
      ]
    },
    {
      "cell_type": "markdown",
      "metadata": {
        "id": "6RMl7CvH4_Vr"
      },
      "source": [
        "**Predicting alive customers' purchasing porbability in a period.**"
      ]
    },
    {
      "cell_type": "code",
      "metadata": {
        "colab": {
          "base_uri": "https://localhost:8080/",
          "height": 234
        },
        "id": "yf0rwphu4Oza",
        "outputId": "f7a1fcdb-0130-4fbf-fe3e-c50347434f63"
      },
      "source": [
        "# Predict customers' perchase in next week\n",
        "t = 7\n",
        "data['predicted_purchases_next_week'] = bgf.conditional_expected_number_of_purchases_up_to_time(t, data['frequency'], \n",
        "                                                                                      data['recency'], \n",
        "                                                                                      data['T']) \n",
        "data.sort_values(by='predicted_purchases_next_week').tail(5)"
      ],
      "execution_count": 100,
      "outputs": [
        {
          "output_type": "execute_result",
          "data": {
            "text/html": [
              "<div>\n",
              "<style scoped>\n",
              "    .dataframe tbody tr th:only-of-type {\n",
              "        vertical-align: middle;\n",
              "    }\n",
              "\n",
              "    .dataframe tbody tr th {\n",
              "        vertical-align: top;\n",
              "    }\n",
              "\n",
              "    .dataframe thead th {\n",
              "        text-align: right;\n",
              "    }\n",
              "</style>\n",
              "<table border=\"1\" class=\"dataframe\">\n",
              "  <thead>\n",
              "    <tr style=\"text-align: right;\">\n",
              "      <th></th>\n",
              "      <th>frequency</th>\n",
              "      <th>recency</th>\n",
              "      <th>T</th>\n",
              "      <th>monetary_value</th>\n",
              "      <th>predicted_purchases_next_week</th>\n",
              "    </tr>\n",
              "    <tr>\n",
              "      <th>CustomerID</th>\n",
              "      <th></th>\n",
              "      <th></th>\n",
              "      <th></th>\n",
              "      <th></th>\n",
              "      <th></th>\n",
              "    </tr>\n",
              "  </thead>\n",
              "  <tbody>\n",
              "    <tr>\n",
              "      <th>14606.0</th>\n",
              "      <td>88.0</td>\n",
              "      <td>372.0</td>\n",
              "      <td>373.0</td>\n",
              "      <td>135.890114</td>\n",
              "      <td>1.407002</td>\n",
              "    </tr>\n",
              "    <tr>\n",
              "      <th>15311.0</th>\n",
              "      <td>89.0</td>\n",
              "      <td>373.0</td>\n",
              "      <td>373.0</td>\n",
              "      <td>677.729438</td>\n",
              "      <td>1.422854</td>\n",
              "    </tr>\n",
              "    <tr>\n",
              "      <th>17841.0</th>\n",
              "      <td>111.0</td>\n",
              "      <td>372.0</td>\n",
              "      <td>373.0</td>\n",
              "      <td>364.452162</td>\n",
              "      <td>1.771332</td>\n",
              "    </tr>\n",
              "    <tr>\n",
              "      <th>12748.0</th>\n",
              "      <td>113.0</td>\n",
              "      <td>373.0</td>\n",
              "      <td>373.0</td>\n",
              "      <td>298.360885</td>\n",
              "      <td>1.803028</td>\n",
              "    </tr>\n",
              "    <tr>\n",
              "      <th>14911.0</th>\n",
              "      <td>131.0</td>\n",
              "      <td>372.0</td>\n",
              "      <td>373.0</td>\n",
              "      <td>1093.661679</td>\n",
              "      <td>2.088140</td>\n",
              "    </tr>\n",
              "  </tbody>\n",
              "</table>\n",
              "</div>"
            ],
            "text/plain": [
              "            frequency  recency  ...  monetary_value  predicted_purchases_next_week\n",
              "CustomerID                      ...                                               \n",
              "14606.0          88.0    372.0  ...      135.890114                       1.407002\n",
              "15311.0          89.0    373.0  ...      677.729438                       1.422854\n",
              "17841.0         111.0    372.0  ...      364.452162                       1.771332\n",
              "12748.0         113.0    373.0  ...      298.360885                       1.803028\n",
              "14911.0         131.0    372.0  ...     1093.661679                       2.088140\n",
              "\n",
              "[5 rows x 5 columns]"
            ]
          },
          "metadata": {},
          "execution_count": 100
        }
      ]
    },
    {
      "cell_type": "markdown",
      "metadata": {
        "id": "4l-CXFvvMqDy"
      },
      "source": [
        "These 5 customers who have made around 100 purchases respectivly, and pruchased recently. So they are probably going to buy again in the next period."
      ]
    },
    {
      "cell_type": "code",
      "metadata": {
        "colab": {
          "base_uri": "https://localhost:8080/",
          "height": 234
        },
        "id": "8MbyZ2pY5bYT",
        "outputId": "2d2cf409-415f-4766-d38b-155d0e2e5608"
      },
      "source": [
        "# Predict customers' perchase probability in next month\n",
        "t = 30\n",
        "data['predicted_purchases_next_month'] = bgf.conditional_expected_number_of_purchases_up_to_time(t, data['frequency'], \n",
        "                                                                                      data['recency'], \n",
        "                                                                                      data['T']) \n",
        "data.sort_values(by='predicted_purchases_next_month').tail(5)"
      ],
      "execution_count": 101,
      "outputs": [
        {
          "output_type": "execute_result",
          "data": {
            "text/html": [
              "<div>\n",
              "<style scoped>\n",
              "    .dataframe tbody tr th:only-of-type {\n",
              "        vertical-align: middle;\n",
              "    }\n",
              "\n",
              "    .dataframe tbody tr th {\n",
              "        vertical-align: top;\n",
              "    }\n",
              "\n",
              "    .dataframe thead th {\n",
              "        text-align: right;\n",
              "    }\n",
              "</style>\n",
              "<table border=\"1\" class=\"dataframe\">\n",
              "  <thead>\n",
              "    <tr style=\"text-align: right;\">\n",
              "      <th></th>\n",
              "      <th>frequency</th>\n",
              "      <th>recency</th>\n",
              "      <th>T</th>\n",
              "      <th>monetary_value</th>\n",
              "      <th>predicted_purchases_next_week</th>\n",
              "      <th>predicted_purchases_next_month</th>\n",
              "    </tr>\n",
              "    <tr>\n",
              "      <th>CustomerID</th>\n",
              "      <th></th>\n",
              "      <th></th>\n",
              "      <th></th>\n",
              "      <th></th>\n",
              "      <th></th>\n",
              "      <th></th>\n",
              "    </tr>\n",
              "  </thead>\n",
              "  <tbody>\n",
              "    <tr>\n",
              "      <th>14606.0</th>\n",
              "      <td>88.0</td>\n",
              "      <td>372.0</td>\n",
              "      <td>373.0</td>\n",
              "      <td>135.890114</td>\n",
              "      <td>1.407002</td>\n",
              "      <td>6.029510</td>\n",
              "    </tr>\n",
              "    <tr>\n",
              "      <th>15311.0</th>\n",
              "      <td>89.0</td>\n",
              "      <td>373.0</td>\n",
              "      <td>373.0</td>\n",
              "      <td>677.729438</td>\n",
              "      <td>1.422854</td>\n",
              "      <td>6.097442</td>\n",
              "    </tr>\n",
              "    <tr>\n",
              "      <th>17841.0</th>\n",
              "      <td>111.0</td>\n",
              "      <td>372.0</td>\n",
              "      <td>373.0</td>\n",
              "      <td>364.452162</td>\n",
              "      <td>1.771332</td>\n",
              "      <td>7.590787</td>\n",
              "    </tr>\n",
              "    <tr>\n",
              "      <th>12748.0</th>\n",
              "      <td>113.0</td>\n",
              "      <td>373.0</td>\n",
              "      <td>373.0</td>\n",
              "      <td>298.360885</td>\n",
              "      <td>1.803028</td>\n",
              "      <td>7.726616</td>\n",
              "    </tr>\n",
              "    <tr>\n",
              "      <th>14911.0</th>\n",
              "      <td>131.0</td>\n",
              "      <td>372.0</td>\n",
              "      <td>373.0</td>\n",
              "      <td>1093.661679</td>\n",
              "      <td>2.088140</td>\n",
              "      <td>8.948418</td>\n",
              "    </tr>\n",
              "  </tbody>\n",
              "</table>\n",
              "</div>"
            ],
            "text/plain": [
              "            frequency  ...  predicted_purchases_next_month\n",
              "CustomerID             ...                                \n",
              "14606.0          88.0  ...                        6.029510\n",
              "15311.0          89.0  ...                        6.097442\n",
              "17841.0         111.0  ...                        7.590787\n",
              "12748.0         113.0  ...                        7.726616\n",
              "14911.0         131.0  ...                        8.948418\n",
              "\n",
              "[5 rows x 6 columns]"
            ]
          },
          "metadata": {},
          "execution_count": 101
        }
      ]
    },
    {
      "cell_type": "markdown",
      "metadata": {
        "id": "3WKL8vjT7_hT"
      },
      "source": [
        "**Customer Probability Histories**\n",
        "\n",
        "Given a customer transaction history, we can calculate their historical probability of being alive, according to our trained model"
      ]
    },
    {
      "cell_type": "code",
      "metadata": {
        "id": "H-deLmVALlRo"
      },
      "source": [
        "from lifetimes.plotting import plot_history_alive"
      ],
      "execution_count": 106,
      "outputs": []
    },
    {
      "cell_type": "code",
      "metadata": {
        "colab": {
          "base_uri": "https://localhost:8080/",
          "height": 617
        },
        "id": "4hn3dzwTLofU",
        "outputId": "0a39c7b2-c454-4d3b-e955-792759c3f85f"
      },
      "source": [
        "# Calculate the historical probability of being alive of a specific customer \n",
        "#id = 13093\n",
        "id = 12347\n",
        "# id = 14911\n",
        "days_since_birth = 500\n",
        "sp_trans = df.loc[df['CustomerID'] == id]\n",
        "fig = plt.figure(figsize=(12,8))\n",
        "plot_history_alive(bgf, days_since_birth, sp_trans, 'InvoiceDate');\n",
        "#df[df['CustomerID']==id][['InvoiceNo','Quantity','Sales']].groupby(['InvoiceNo']).sum()\n",
        "data.loc[id]"
      ],
      "execution_count": 108,
      "outputs": [
        {
          "output_type": "execute_result",
          "data": {
            "text/plain": [
              "frequency                           6.000000\n",
              "recency                           365.000000\n",
              "T                                 367.000000\n",
              "monetary_value                    599.701667\n",
              "predicted_purchases_next_week       0.109591\n",
              "predicted_purchases_next_month      0.469651\n",
              "Name: 12347.0, dtype: float64"
            ]
          },
          "metadata": {},
          "execution_count": 108
        },
        {
          "output_type": "display_data",
          "data": {
            "image/png": "[encoded data removed]",
            "text/plain": [
              "<Figure size 864x576 with 1 Axes>"
            ]
          },
          "metadata": {
            "needs_background": "light"
          }
        }
      ]
    },
    {
      "cell_type": "code",
      "metadata": {
        "colab": {
          "base_uri": "https://localhost:8080/",
          "height": 617
        },
        "id": "2uce8lGYWES5",
        "outputId": "67a12067-a644-4d9a-c98b-93219b2253c8"
      },
      "source": [
        "# Calculate the historical probability of being alive of our best customer \n",
        "id = 14911\n",
        "days_since_birth = 500\n",
        "sp_trans = df.loc[df['CustomerID'] == id]\n",
        "fig = plt.figure(figsize=(12,8))\n",
        "plot_history_alive(bgf, days_since_birth, sp_trans, 'InvoiceDate');\n",
        "#df[df['CustomerID']==id][['InvoiceNo','Quantity','Sales']].groupby(['InvoiceNo']).sum()\n",
        "data.loc[id]"
      ],
      "execution_count": 109,
      "outputs": [
        {
          "output_type": "execute_result",
          "data": {
            "text/plain": [
              "frequency                          131.000000\n",
              "recency                            372.000000\n",
              "T                                  373.000000\n",
              "monetary_value                    1093.661679\n",
              "predicted_purchases_next_week        2.088140\n",
              "predicted_purchases_next_month       8.948418\n",
              "Name: 14911.0, dtype: float64"
            ]
          },
          "metadata": {},
          "execution_count": 109
        },
        {
          "output_type": "display_data",
          "data": {
            "image/png": "[encoded data removed]",
            "text/plain": [
              "<Figure size 864x576 with 1 Axes>"
            ]
          },
          "metadata": {
            "needs_background": "light"
          }
        }
      ]
    },
    {
      "cell_type": "markdown",
      "metadata": {
        "id": "N3btKMtI7_dy"
      },
      "source": [
        "**Estimating customer lifetime value using the Gamma-Gamma model**  \n",
        "The Gamma-Gamma submodel assumes that there is no relationship between the monetary value and the purchase frequency. So we need to check whether the Pearson correlation between the two vectors is close to 0 in order to use this model."
      ]
    },
    {
      "cell_type": "code",
      "metadata": {
        "colab": {
          "base_uri": "https://localhost:8080/",
          "height": 234
        },
        "id": "YfcOvE-4OP7B",
        "outputId": "fcc1eae9-4254-4e4b-e708-f3a4849c96d2"
      },
      "source": [
        "returning_customers_summary = data[data['frequency']>0]\n",
        "returning_customers_summary.head()"
      ],
      "execution_count": 110,
      "outputs": [
        {
          "output_type": "execute_result",
          "data": {
            "text/html": [
              "<div>\n",
              "<style scoped>\n",
              "    .dataframe tbody tr th:only-of-type {\n",
              "        vertical-align: middle;\n",
              "    }\n",
              "\n",
              "    .dataframe tbody tr th {\n",
              "        vertical-align: top;\n",
              "    }\n",
              "\n",
              "    .dataframe thead th {\n",
              "        text-align: right;\n",
              "    }\n",
              "</style>\n",
              "<table border=\"1\" class=\"dataframe\">\n",
              "  <thead>\n",
              "    <tr style=\"text-align: right;\">\n",
              "      <th></th>\n",
              "      <th>frequency</th>\n",
              "      <th>recency</th>\n",
              "      <th>T</th>\n",
              "      <th>monetary_value</th>\n",
              "      <th>predicted_purchases_next_week</th>\n",
              "      <th>predicted_purchases_next_month</th>\n",
              "    </tr>\n",
              "    <tr>\n",
              "      <th>CustomerID</th>\n",
              "      <th></th>\n",
              "      <th></th>\n",
              "      <th></th>\n",
              "      <th></th>\n",
              "      <th></th>\n",
              "      <th></th>\n",
              "    </tr>\n",
              "  </thead>\n",
              "  <tbody>\n",
              "    <tr>\n",
              "      <th>12347.0</th>\n",
              "      <td>6.0</td>\n",
              "      <td>365.0</td>\n",
              "      <td>367.0</td>\n",
              "      <td>599.701667</td>\n",
              "      <td>0.109591</td>\n",
              "      <td>0.469651</td>\n",
              "    </tr>\n",
              "    <tr>\n",
              "      <th>12348.0</th>\n",
              "      <td>3.0</td>\n",
              "      <td>283.0</td>\n",
              "      <td>358.0</td>\n",
              "      <td>301.480000</td>\n",
              "      <td>0.062692</td>\n",
              "      <td>0.268668</td>\n",
              "    </tr>\n",
              "    <tr>\n",
              "      <th>12352.0</th>\n",
              "      <td>6.0</td>\n",
              "      <td>260.0</td>\n",
              "      <td>296.0</td>\n",
              "      <td>368.256667</td>\n",
              "      <td>0.130877</td>\n",
              "      <td>0.560863</td>\n",
              "    </tr>\n",
              "    <tr>\n",
              "      <th>12356.0</th>\n",
              "      <td>2.0</td>\n",
              "      <td>303.0</td>\n",
              "      <td>325.0</td>\n",
              "      <td>269.905000</td>\n",
              "      <td>0.050203</td>\n",
              "      <td>0.215146</td>\n",
              "    </tr>\n",
              "    <tr>\n",
              "      <th>12358.0</th>\n",
              "      <td>1.0</td>\n",
              "      <td>149.0</td>\n",
              "      <td>150.0</td>\n",
              "      <td>683.200000</td>\n",
              "      <td>0.058377</td>\n",
              "      <td>0.250171</td>\n",
              "    </tr>\n",
              "  </tbody>\n",
              "</table>\n",
              "</div>"
            ],
            "text/plain": [
              "            frequency  ...  predicted_purchases_next_month\n",
              "CustomerID             ...                                \n",
              "12347.0           6.0  ...                        0.469651\n",
              "12348.0           3.0  ...                        0.268668\n",
              "12352.0           6.0  ...                        0.560863\n",
              "12356.0           2.0  ...                        0.215146\n",
              "12358.0           1.0  ...                        0.250171\n",
              "\n",
              "[5 rows x 6 columns]"
            ]
          },
          "metadata": {},
          "execution_count": 110
        }
      ]
    },
    {
      "cell_type": "code",
      "metadata": {
        "colab": {
          "base_uri": "https://localhost:8080/"
        },
        "id": "cawrfA9jT1SL",
        "outputId": "54691901-21b0-41ef-d796-0856fabbc2a0"
      },
      "source": [
        "print('\\nThere are %d returning customers. '%len(returning_customers_summary))"
      ],
      "execution_count": 111,
      "outputs": [
        {
          "output_type": "stream",
          "name": "stdout",
          "text": [
            "\n",
            "There are 2790 returning customers. \n"
          ]
        }
      ]
    },
    {
      "cell_type": "code",
      "metadata": {
        "colab": {
          "base_uri": "https://localhost:8080/",
          "height": 110
        },
        "id": "roYZZTkRRQpN",
        "outputId": "833c7c80-8338-4f72-eb90-d2261c212d87"
      },
      "source": [
        "returning_customers_summary[['monetary_value', 'frequency']].corr()"
      ],
      "execution_count": 112,
      "outputs": [
        {
          "output_type": "execute_result",
          "data": {
            "text/html": [
              "<div>\n",
              "<style scoped>\n",
              "    .dataframe tbody tr th:only-of-type {\n",
              "        vertical-align: middle;\n",
              "    }\n",
              "\n",
              "    .dataframe tbody tr th {\n",
              "        vertical-align: top;\n",
              "    }\n",
              "\n",
              "    .dataframe thead th {\n",
              "        text-align: right;\n",
              "    }\n",
              "</style>\n",
              "<table border=\"1\" class=\"dataframe\">\n",
              "  <thead>\n",
              "    <tr style=\"text-align: right;\">\n",
              "      <th></th>\n",
              "      <th>monetary_value</th>\n",
              "      <th>frequency</th>\n",
              "    </tr>\n",
              "  </thead>\n",
              "  <tbody>\n",
              "    <tr>\n",
              "      <th>monetary_value</th>\n",
              "      <td>1.000000</td>\n",
              "      <td>0.015882</td>\n",
              "    </tr>\n",
              "    <tr>\n",
              "      <th>frequency</th>\n",
              "      <td>0.015882</td>\n",
              "      <td>1.000000</td>\n",
              "    </tr>\n",
              "  </tbody>\n",
              "</table>\n",
              "</div>"
            ],
            "text/plain": [
              "                monetary_value  frequency\n",
              "monetary_value        1.000000   0.015882\n",
              "frequency             0.015882   1.000000"
            ]
          },
          "metadata": {},
          "execution_count": 112
        }
      ]
    },
    {
      "cell_type": "markdown",
      "metadata": {
        "id": "xjOxThdmRo5R"
      },
      "source": [
        "The correlation is close to 0, so we can use this model.\n",
        "At this point we can train our Gamma-Gamma submodel and predict the conditional, expected average lifetime value of our customers."
      ]
    },
    {
      "cell_type": "code",
      "metadata": {
        "colab": {
          "base_uri": "https://localhost:8080/"
        },
        "id": "mTlo2j-VRmcu",
        "outputId": "6ae4eb39-0519-4d7d-9bed-49e263c7b3d4"
      },
      "source": [
        "from lifetimes import GammaGammaFitter\n",
        "ggf = GammaGammaFitter(penalizer_coef = 0) # Create the model\n",
        "ggf.fit(returning_customers_summary['frequency'],\n",
        "        returning_customers_summary['monetary_value']) # Fit the model\n",
        "print(ggf)"
      ],
      "execution_count": 113,
      "outputs": [
        {
          "output_type": "stream",
          "name": "stdout",
          "text": [
            "<lifetimes.GammaGammaFitter: fitted with 2790 subjects, p: 2.10, q: 3.45, v: 485.57>\n"
          ]
        }
      ]
    },
    {
      "cell_type": "code",
      "metadata": {
        "colab": {
          "base_uri": "https://localhost:8080/"
        },
        "id": "vSFJ8nmER4H0",
        "outputId": "6e7190b3-f164-4d0c-e421-6c9ff5de706c"
      },
      "source": [
        "ggf.conditional_expected_average_profit(\n",
        "        data['frequency'],\n",
        "        data['monetary_value']).head(10) # Estimate the average transaction value"
      ],
      "execution_count": 115,
      "outputs": [
        {
          "output_type": "execute_result",
          "data": {
            "text/plain": [
              "CustomerID\n",
              "12346.0    416.917667\n",
              "12347.0    569.988807\n",
              "12348.0    333.762672\n",
              "12349.0    416.917667\n",
              "12350.0    416.917667\n",
              "12352.0    376.166864\n",
              "12353.0    416.917667\n",
              "12354.0    416.917667\n",
              "12355.0    416.917667\n",
              "12356.0    324.008941\n",
              "dtype: float64"
            ]
          },
          "metadata": {},
          "execution_count": 115
        }
      ]
    },
    {
      "cell_type": "code",
      "metadata": {
        "colab": {
          "base_uri": "https://localhost:8080/"
        },
        "id": "gdSVH5EkSi09",
        "outputId": "b2c4953c-efaa-424f-ae3a-3e6a8882b2cd"
      },
      "source": [
        "bgf.fit(data['frequency'], data['recency'], data['T'])\n",
        "clv = ggf.customer_lifetime_value(\n",
        "    bgf, #the model to use to predict the number of future transactions\n",
        "    data['frequency'],\n",
        "    data['recency'],\n",
        "    data['T'],\n",
        "    data['monetary_value'],\n",
        "    time=12, # months\n",
        "    discount_rate=0.01 # monthly discount rate ~ 12.7% annually\n",
        ")\n",
        "clv.head()"
      ],
      "execution_count": 114,
      "outputs": [
        {
          "output_type": "execute_result",
          "data": {
            "text/plain": [
              "CustomerID\n",
              "12346.0     295.248495\n",
              "12347.0    3010.933997\n",
              "12348.0    1008.692677\n",
              "12349.0    1337.106427\n",
              "12350.0     306.932977\n",
              "Name: clv, dtype: float64"
            ]
          },
          "metadata": {},
          "execution_count": 114
        }
      ]
    },
    {
      "cell_type": "code",
      "metadata": {
        "colab": {
          "base_uri": "https://localhost:8080/"
        },
        "id": "ERz-ANRMX3R8",
        "outputId": "4683cd62-4472-4ea8-fad3-c391ccd07078"
      },
      "source": [
        "clv.describe()"
      ],
      "execution_count": 116,
      "outputs": [
        {
          "output_type": "execute_result",
          "data": {
            "text/plain": [
              "count      4339.000000\n",
              "mean       1993.090844\n",
              "std        7120.369624\n",
              "min         263.187346\n",
              "25%         593.366313\n",
              "50%        1028.340336\n",
              "75%        1744.514401\n",
              "max      222128.930290\n",
              "Name: clv, dtype: float64"
            ]
          },
          "metadata": {},
          "execution_count": 116
        }
      ]
    },
    {
      "cell_type": "code",
      "metadata": {
        "colab": {
          "base_uri": "https://localhost:8080/",
          "height": 374
        },
        "id": "OYzMn9tGUew2",
        "outputId": "e7605b63-2885-40aa-8771-b110e2338052"
      },
      "source": [
        "clv.plot(kind = 'hist',bins = 100, figsize = (12,6));"
      ],
      "execution_count": null,
      "outputs": [
        {
          "output_type": "display_data",
          "data": {
            "image/png": "[encoded data removed]",
            "text/plain": [
              "<Figure size 864x432 with 1 Axes>"
            ]
          },
          "metadata": {
            "needs_background": "light"
          }
        }
      ]
    },
    {
      "cell_type": "markdown",
      "metadata": {
        "id": "b0b9bQTMDsyV"
      },
      "source": [
        "#### Assessing model fit"
      ]
    },
    {
      "cell_type": "code",
      "metadata": {
        "id": "BUnDMOHBXTOg"
      },
      "source": [
        ""
      ],
      "execution_count": null,
      "outputs": []
    },
    {
      "cell_type": "code",
      "metadata": {
        "colab": {
          "base_uri": "https://localhost:8080/",
          "height": 400
        },
        "id": "ndtp8NZF5ka7",
        "outputId": "b213eeeb-4f4d-4ea8-8704-559c4edbc2e5"
      },
      "source": [
        "from lifetimes.plotting import plot_period_transactions\n",
        "plot_period_transactions(bgf,figsize=(12,6));"
      ],
      "execution_count": 102,
      "outputs": [
        {
          "output_type": "display_data",
          "data": {
            "image/png": "[encoded data removed]",
            "text/plain": [
              "<Figure size 864x432 with 1 Axes>"
            ]
          },
          "metadata": {
            "needs_background": "light"
          }
        }
      ]
    }
  ]
}